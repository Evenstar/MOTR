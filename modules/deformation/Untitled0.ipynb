{
 "metadata": {
  "name": ""
 },
 "nbformat": 3,
 "nbformat_minor": 0,
 "worksheets": [
  {
   "cells": [
    {
     "cell_type": "code",
     "collapsed": false,
     "input": [
      "import scipy.io\n",
      "mat = scipy.io.loadmat('crudeseq.mat')\n",
      "train_x=mat['seqx'];\n",
      "train_y=ravel(mat['seqy']);\n",
      "from numpy import *\n",
      "from sklearn import cross_validation\n",
      "from sklearn.svm import SVC\n",
      "from sklearn import svm\n",
      "from sklearn.datasets import fetch_mldata\n",
      "shuffle = random.permutation(arange(train_x.shape[0]))\n",
      "train_x, train_y = train_x[shuffle], train_y[shuffle]\n",
      "# Initialise the model, the best model parameters are reported at \n",
      "# http://peekaboo-vision.blogspot.co.uk/2010/09/mnist-for-ever.html\n",
      "clf = SVC(kernel=\"rbf\", C=2.8, gamma=.0073)\n",
      "# Train and validate the model with 7-fold cross validation\n",
      "scores = cross_validation.cross_val_score(clf, train_x, train_y, cv=7)\n",
      "print scores"
     ],
     "language": "python",
     "metadata": {},
     "outputs": [
      {
       "output_type": "stream",
       "stream": "stdout",
       "text": [
        "[ 0.7625  0.735   0.7525  0.7425  0.745   0.7425  0.725 ]\n"
       ]
      }
     ],
     "prompt_number": 20
    },
    {
     "cell_type": "code",
     "collapsed": false,
     "input": [],
     "language": "python",
     "metadata": {},
     "outputs": [
      {
       "metadata": {},
       "output_type": "pyout",
       "prompt_number": 21,
       "text": [
        "2800"
       ]
      }
     ],
     "prompt_number": 21
    },
    {
     "cell_type": "code",
     "collapsed": false,
     "input": [],
     "language": "python",
     "metadata": {},
     "outputs": []
    }
   ],
   "metadata": {}
  }
 ]
}