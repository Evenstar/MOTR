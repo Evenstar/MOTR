{
 "metadata": {
  "name": ""
 },
 "nbformat": 3,
 "nbformat_minor": 0,
 "worksheets": [
  {
   "cells": [
    {
     "cell_type": "heading",
     "level": 5,
     "metadata": {},
     "source": [
      "mnist_sky_x0.mat dict: 6,6. output 8,8 threshold 0.5\n",
      "mnist_sky_x1.mat dict: 6,6. output 8 8 sigm   threshold mean value\n",
      "mnist_sky_x2.mat dict: 6,6, output 2 2 sigm   threshold mean value\n",
      "mnist_sky_x3.mat same, but with two level and no thresholding. \n",
      "mnist_sky_x4.mat same, but using only 42 numbers"
     ]
    },
    {
     "cell_type": "code",
     "collapsed": false,
     "input": [
      "from sklearn import cross_validation\n",
      "from sklearn.svm import SVC\n",
      "import scipy.io\n",
      "import numpy as np\n",
      "mat=scipy.io.loadmat('mnist_sky_x0.mat')\n",
      "train_x=mat['seqx']\n",
      "train_y=np.ravel(mat['seqy'])\n",
      "shuffle = np.random.permutation(np.arange(train_x.shape[0]))\n",
      "train_x, train_y = train_x[shuffle], train_y[shuffle]\n",
      "clf = SVC(kernel=\"linear\", C=1)\n",
      "# Train and validate the model with 7-fold cross validation                     \n",
      "scores = cross_validation.cross_val_score(clf, train_x, train_y, cv=3)\n",
      "print scores\n",
      "#[ 0.9752   0.97565  0.97325]"
     ],
     "language": "python",
     "metadata": {},
     "outputs": []
    },
    {
     "cell_type": "code",
     "collapsed": false,
     "input": [
      "from sklearn import cross_validation\n",
      "from sklearn.svm import SVC\n",
      "import scipy.io\n",
      "import numpy as np\n",
      "mat=scipy.io.loadmat('mnist_sky_x1.mat')\n",
      "train_x=mat['seqx']\n",
      "train_y=np.ravel(mat['seqy'])\n",
      "shuffle = np.random.permutation(np.arange(train_x.shape[0]))\n",
      "train_x, train_y = train_x[shuffle], train_y[shuffle]\n",
      "clf = SVC(kernel=\"linear\", C=1)\n",
      "# Train and validate the model with 7-fold cross validation                     \n",
      "scores = cross_validation.cross_val_score(clf, train_x, train_y, cv=3)\n",
      "print scores\n",
      "#[ 0.97715  0.97675  0.9747 ]\n",
      "#[ 0.9749   0.97625  0.97685]"
     ],
     "language": "python",
     "metadata": {},
     "outputs": []
    },
    {
     "cell_type": "code",
     "collapsed": false,
     "input": [
      "from sklearn import cross_validation\n",
      "from sklearn.svm import SVC\n",
      "import scipy.io\n",
      "import numpy as np\n",
      "mat=scipy.io.loadmat('mnist_sky_x2.mat')\n",
      "train_x=mat['seqx']\n",
      "train_y=np.ravel(mat['seqy'])\n",
      "shuffle = np.random.permutation(np.arange(train_x.shape[0]))\n",
      "train_x, train_y = train_x[shuffle], train_y[shuffle]\n",
      "clf = SVC(kernel=\"linear\", C=1)\n",
      "# Train and validate the model with 7-fold cross validation                     \n",
      "scores = cross_validation.cross_val_score(clf, train_x, train_y, cv=3)\n",
      "print scores\n",
      "#[ 0.40135  0.40095  0.4006 ]"
     ],
     "language": "python",
     "metadata": {},
     "outputs": []
    },
    {
     "cell_type": "code",
     "collapsed": false,
     "input": [
      "from sklearn import cross_validation\n",
      "from sklearn.svm import SVC\n",
      "import scipy.io\n",
      "import numpy as np\n",
      "mat=scipy.io.loadmat('mnist_sky_x3.mat')\n",
      "train_x=mat['seqx']\n",
      "train_y=np.ravel(mat['seqy'])\n",
      "shuffle = np.random.permutation(np.arange(train_x.shape[0]))\n",
      "train_x, train_y = train_x[shuffle], train_y[shuffle]\n",
      "clf = SVC(kernel=\"linear\", C=1)\n",
      "# Train and validate the model with 7-fold cross validation                     \n",
      "scores = cross_validation.cross_val_score(clf, train_x, train_y, cv=3)\n",
      "print scores\n",
      "#[ 0.9447  0.9462  0.9453]\n",
      "#thresholding improves performance?\n"
     ],
     "language": "python",
     "metadata": {},
     "outputs": []
    },
    {
     "cell_type": "code",
     "collapsed": false,
     "input": [
      "from sklearn import cross_validation\n",
      "from sklearn.svm import SVC\n",
      "import scipy.io\n",
      "import numpy as np\n",
      "mat=scipy.io.loadmat('mnist_sky_x4.mat')\n",
      "train_x=mat['seqx']\n",
      "train_y=np.ravel(mat['seqy'])\n",
      "shuffle = np.random.permutation(np.arange(train_x.shape[0]))\n",
      "train_x, train_y = train_x[shuffle], train_y[shuffle]\n",
      "clf = SVC(kernel=\"linear\", C=1)\n",
      "# Train and validate the model with 7-fold cross validation                     \n",
      "scores = cross_validation.cross_val_score(clf, train_x, train_y, cv=3)\n",
      "print scores\n",
      "#[ 0.9259  0.9285  0.9257]"
     ],
     "language": "python",
     "metadata": {},
     "outputs": []
    }
   ],
   "metadata": {}
  }
 ]
}