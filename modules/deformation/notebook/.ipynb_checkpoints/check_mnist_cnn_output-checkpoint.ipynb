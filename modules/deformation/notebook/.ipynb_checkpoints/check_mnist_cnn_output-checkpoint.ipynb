{
 "metadata": {
  "name": ""
 },
 "nbformat": 3,
 "nbformat_minor": 0,
 "worksheets": [
  {
   "cells": [
    {
     "cell_type": "heading",
     "level": 5,
     "metadata": {},
     "source": [
      "mnist_cnn_x0.mat is the original mnist data.\n",
      "mnist_cnn_x1.mat is produced using cnn 6-5-12-5 trained for 100 epoches.\n",
      "mnist_cnn_x2.mat is substitution all with wavelets, rescaled by 20.\n",
      "mnist_cnn_x3.mat is substitution all with random gaussian noise.\n",
      "mnist_cnn_x4.mat is substitution one with randome noise.\n",
      "mnist_cnn_x5.mat is substitution one with wavelet."
     ]
    },
    {
     "cell_type": "heading",
     "level": 5,
     "metadata": {},
     "source": [
      "Baseline, use directly the output of cnn."
     ]
    },
    {
     "cell_type": "code",
     "collapsed": false,
     "input": [
      "from sklearn import cross_validation\n",
      "from sklearn.svm import SVC\n",
      "import scipy.io\n",
      "import numpy as np\n",
      "mat=scipy.io.loadmat('../data/mnist_cnn_x1.mat')\n",
      "train_x=mat['seqx'];\n",
      "train_y=np.ravel(mat['seqy']);\n",
      "shuffle = np.random.permutation(np.arange(train_x.shape[0]))\n",
      "train_x, train_y = train_x[shuffle], train_y[shuffle]\n",
      "clf = SVC(kernel=\"linear\", C=1)\n",
      "# Train and validate the model with 7-fold cross validation\n",
      "scores = cross_validation.cross_val_score(clf, train_x, train_y, cv=6)\n",
      "print scores"
     ],
     "language": "python",
     "metadata": {},
     "outputs": [
      {
       "output_type": "stream",
       "stream": "stdout",
       "text": [
        "[ 0.9909  0.9898  0.9904  0.9905  0.9895  0.9903]\n"
       ]
      }
     ],
     "prompt_number": 18
    },
    {
     "cell_type": "code",
     "collapsed": false,
     "input": [
      "from sklearn import cross_validation\n",
      "from sklearn.svm import SVC\n",
      "import scipy.io\n",
      "import numpy as np\n",
      "mat=scipy.io.loadmat('../data/mnist_cnn_x2.mat')\n",
      "train_x=mat['seqx'];\n",
      "train_y=np.ravel(mat['seqy']);\n",
      "shuffle = np.random.permutation(np.arange(train_x.shape[0]))\n",
      "train_x, train_y = train_x[shuffle], train_y[shuffle]\n",
      "clf = SVC(kernel=\"linear\", C=1)\n",
      "# Train and validate the model with 7-fold cross validation\n",
      "scores = cross_validation.cross_val_score(clf, train_x, train_y, cv=6)\n",
      "print scores"
     ],
     "language": "python",
     "metadata": {},
     "outputs": [
      {
       "output_type": "stream",
       "stream": "stdout",
       "text": [
        "[ 0.9787  0.9801  0.9782  0.9796  0.9765  0.9793]\n"
       ]
      }
     ],
     "prompt_number": 19
    },
    {
     "cell_type": "code",
     "collapsed": false,
     "input": [
      "from sklearn import cross_validation\n",
      "from sklearn.svm import SVC\n",
      "import scipy.io\n",
      "import numpy as np\n",
      "mat=scipy.io.loadmat('../data/mnist_cnn_x3.mat')\n",
      "train_x=mat['seqx'];\n",
      "train_y=np.ravel(mat['seqy']);\n",
      "shuffle = np.random.permutation(np.arange(train_x.shape[0]))\n",
      "train_x, train_y = train_x[shuffle], train_y[shuffle]\n",
      "clf = SVC(kernel=\"linear\", C=1)\n",
      "# Train and validate the model with 7-fold cross validation\n",
      "scores = cross_validation.cross_val_score(clf, train_x, train_y, cv=6)\n",
      "print scores"
     ],
     "language": "python",
     "metadata": {},
     "outputs": [
      {
       "output_type": "stream",
       "stream": "stdout",
       "text": [
        "[ 0.9753  0.9711  0.9719  0.9729  0.9716  0.9712]\n"
       ]
      }
     ],
     "prompt_number": 20
    },
    {
     "cell_type": "code",
     "collapsed": false,
     "input": [
      "from sklearn import cross_validation\n",
      "from sklearn.svm import SVC\n",
      "import scipy.io\n",
      "import numpy as np\n",
      "mat=scipy.io.loadmat('../data/mnist_cnn_x4.mat')\n",
      "train_x=mat['seqx'];\n",
      "train_y=np.ravel(mat['seqy']);\n",
      "shuffle = np.random.permutation(np.arange(train_x.shape[0]))\n",
      "train_x, train_y = train_x[shuffle], train_y[shuffle]\n",
      "clf = SVC(kernel=\"linear\", C=1)\n",
      "# Train and validate the model with 7-fold cross validation\n",
      "scores = cross_validation.cross_val_score(clf, train_x, train_y, cv=6)\n",
      "print scores"
     ],
     "language": "python",
     "metadata": {},
     "outputs": [
      {
       "output_type": "stream",
       "stream": "stdout",
       "text": [
        "[ 0.9861  0.9887  0.9875  0.9877  0.9856  0.9875]\n"
       ]
      }
     ],
     "prompt_number": 21
    },
    {
     "cell_type": "code",
     "collapsed": false,
     "input": [
      "from sklearn import cross_validation\n",
      "from sklearn.svm import SVC\n",
      "import scipy.io\n",
      "import numpy as np\n",
      "mat=scipy.io.loadmat('../data/mnist_cnn_x5.mat')\n",
      "train_x=mat['seqx'];\n",
      "train_y=np.ravel(mat['seqy']);\n",
      "shuffle = np.random.permutation(np.arange(train_x.shape[0]))\n",
      "train_x, train_y = train_x[shuffle], train_y[shuffle]\n",
      "clf = SVC(kernel=\"linear\", C=1)\n",
      "# Train and validate the model with 7-fold cross validation\n",
      "scores = cross_validation.cross_val_score(clf, train_x, train_y, cv=5)\n",
      "print scores"
     ],
     "language": "python",
     "metadata": {},
     "outputs": [
      {
       "output_type": "stream",
       "stream": "stdout",
       "text": [
        "[ 0.98816667  0.98858333  0.98891667  0.991       0.98975   ]\n"
       ]
      }
     ],
     "prompt_number": 22
    },
    {
     "cell_type": "code",
     "collapsed": false,
     "input": [],
     "language": "python",
     "metadata": {},
     "outputs": []
    }
   ],
   "metadata": {}
  }
 ]
}