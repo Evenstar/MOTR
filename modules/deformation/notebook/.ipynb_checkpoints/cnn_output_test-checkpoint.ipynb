{
 "metadata": {
  "name": ""
 },
 "nbformat": 3,
 "nbformat_minor": 0,
 "worksheets": [
  {
   "cells": [
    {
     "cell_type": "heading",
     "level": 2,
     "metadata": {},
     "source": [
      "10000 examples, trained for 3 epoches"
     ]
    },
    {
     "cell_type": "heading",
     "level": 5,
     "metadata": {},
     "source": [
      "Load data"
     ]
    },
    {
     "cell_type": "code",
     "collapsed": false,
     "input": [
      "from sklearn import cross_validation\n",
      "from sklearn.svm import SVC\n",
      "import scipy.io\n",
      "import numpy as np\n",
      "mat=scipy.io.loadmat('../data/mnist_cnn_1.mat')\n",
      "train_x=mat['seqx'];\n",
      "train_y=np.ravel(mat['seqy']);\n",
      "shuffle = np.random.permutation(np.arange(train_x.shape[0]))\n",
      "train_x, train_y = train_x[shuffle], train_y[shuffle]"
     ],
     "language": "python",
     "metadata": {},
     "outputs": [],
     "prompt_number": 12
    },
    {
     "cell_type": "heading",
     "level": 5,
     "metadata": {},
     "source": [
      "Linear SVM"
     ]
    },
    {
     "cell_type": "code",
     "collapsed": false,
     "input": [
      "clf = SVC(kernel=\"linear\", C=1, gamma=.001)\n",
      "# Train and validate the model with 7-fold cross validation\n",
      "scores = cross_validation.cross_val_score(clf, train_x, train_y, cv=5)\n",
      "print scores.mean()"
     ],
     "language": "python",
     "metadata": {},
     "outputs": [
      {
       "output_type": "stream",
       "stream": "stdout",
       "text": [
        "0.9383\n"
       ]
      }
     ],
     "prompt_number": 13
    },
    {
     "cell_type": "heading",
     "level": 4,
     "metadata": {},
     "source": [
      "rbf SVM"
     ]
    },
    {
     "cell_type": "code",
     "collapsed": false,
     "input": [
      "clf = SVC(kernel=\"rbf\", C=2.8, gamma=.0073)\n",
      "# Train and validate the model with 7-fold cross validation\n",
      "scores = cross_validation.cross_val_score(clf, train_x, train_y, cv=5)\n",
      "print scores.mean()"
     ],
     "language": "python",
     "metadata": {},
     "outputs": [
      {
       "output_type": "stream",
       "stream": "stdout",
       "text": [
        "0.9085\n"
       ]
      }
     ],
     "prompt_number": 6
    },
    {
     "cell_type": "heading",
     "level": 2,
     "metadata": {},
     "source": [
      "10000 examples, trained for 10 epoches"
     ]
    },
    {
     "cell_type": "code",
     "collapsed": false,
     "input": [
      "from sklearn import cross_validation\n",
      "from sklearn.svm import SVC\n",
      "import scipy.io\n",
      "import numpy as np\n",
      "mat=scipy.io.loadmat('../data/mnist_cnn_2.mat')\n",
      "train_x=mat['seqx'];\n",
      "train_y=np.ravel(mat['seqy']);\n",
      "shuffle = np.random.permutation(np.arange(train_x.shape[0]))\n",
      "train_x, train_y = train_x[shuffle], train_y[shuffle]"
     ],
     "language": "python",
     "metadata": {},
     "outputs": [],
     "prompt_number": 21
    },
    {
     "cell_type": "code",
     "collapsed": false,
     "input": [
      "clf = SVC(kernel=\"linear\", C=2.8, gamma=.01)\n",
      "# Train and validate the model with 7-fold cross validation\n",
      "scores = cross_validation.cross_val_score(clf, train_x, train_y, cv=5)\n",
      "print scores.mean()"
     ],
     "language": "python",
     "metadata": {},
     "outputs": [
      {
       "output_type": "stream",
       "stream": "stdout",
       "text": [
        "0.9662\n"
       ]
      }
     ],
     "prompt_number": 27
    },
    {
     "cell_type": "heading",
     "level": 2,
     "metadata": {},
     "source": [
      "20000 examples, trained for 10 epoches"
     ]
    },
    {
     "cell_type": "code",
     "collapsed": false,
     "input": [
      "from sklearn import cross_validation\n",
      "from sklearn.svm import SVC\n",
      "import scipy.io\n",
      "import numpy as np\n",
      "mat=scipy.io.loadmat('../data/mnist_cnn_3.mat')\n",
      "train_x=mat['seqx'];\n",
      "train_y=np.ravel(mat['seqy']);\n",
      "shuffle = np.random.permutation(np.arange(train_x.shape[0]))\n",
      "train_x, train_y = train_x[shuffle], train_y[shuffle]"
     ],
     "language": "python",
     "metadata": {},
     "outputs": [],
     "prompt_number": 29
    },
    {
     "cell_type": "code",
     "collapsed": false,
     "input": [
      "clf = SVC(kernel=\"linear\", C=1, gamma=.01)\n",
      "# Train and validate the model with 7-fold cross validation\n",
      "scores = cross_validation.cross_val_score(clf, train_x, train_y, cv=3)\n",
      "print scores.mean()"
     ],
     "language": "python",
     "metadata": {},
     "outputs": [],
     "prompt_number": "*"
    },
    {
     "cell_type": "code",
     "collapsed": false,
     "input": [
      "from sklearn import cross_validation\n",
      "from sklearn.svm import SVC\n",
      "import scipy.io\n",
      "import numpy as np\n",
      "mat=scipy.io.loadmat('../data/mnist_cnn_4.mat')\n",
      "train_x=mat['seqx'];\n",
      "train_y=np.ravel(mat['seqy']);\n",
      "shuffle = np.random.permutation(np.arange(train_x.shape[0]))\n",
      "train_x, train_y = train_x[shuffle], train_y[shuffle]"
     ],
     "language": "python",
     "metadata": {},
     "outputs": [],
     "prompt_number": 3
    },
    {
     "cell_type": "code",
     "collapsed": false,
     "input": [
      "clf = SVC(kernel=\"linear\", C=2.8, gamma=.01)\n",
      "# Train and validate the model with 7-fold cross validation\n",
      "scores = cross_validation.cross_val_score(clf, train_x, train_y, cv=4)\n",
      "print scores.mean()"
     ],
     "language": "python",
     "metadata": {},
     "outputs": [],
     "prompt_number": "*"
    },
    {
     "cell_type": "code",
     "collapsed": false,
     "input": [],
     "language": "python",
     "metadata": {},
     "outputs": []
    }
   ],
   "metadata": {}
  }
 ]
}