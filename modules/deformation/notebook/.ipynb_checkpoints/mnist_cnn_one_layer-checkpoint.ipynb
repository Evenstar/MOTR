{
 "metadata": {
  "name": ""
 },
 "nbformat": 3,
 "nbformat_minor": 0,
 "worksheets": [
  {
   "cells": [
    {
     "cell_type": "heading",
     "level": 4,
     "metadata": {},
     "source": [
      "mnist_cnn_y0.mat output of the first layer\n",
      "mnist_cnn_y1.mat output of the first layer using ReLU \n",
      "mnist_cnn_y2.mat substitution all with wavelets.\n",
      "mnist_cnn_y3.mat output of the first layer before downsampling.\n",
      "mnist_cnn_y4.mat add a simple wavelet transform on the data before linear svm.\n",
      "mnist_cnn_y5.mat random linear transform of raw data, reduce to 100 dimensions.\n",
      "mnist_cnn_y5.mat random redundant linear transform of raw data, increased to 784*2 dimensions."
     ]
    },
    {
     "cell_type": "code",
     "collapsed": false,
     "input": [
      "from sklearn import cross_validation\n",
      "from sklearn.svm import SVC\n",
      "import scipy.io\n",
      "import numpy as np\n",
      "mat=scipy.io.loadmat('../data/mnist_cnn_y0.mat')\n",
      "train_x=mat['seqx'];\n",
      "train_y=np.ravel(mat['seqy']);\n",
      "shuffle = np.random.permutation(np.arange(train_x.shape[0]))\n",
      "train_x, train_y = train_x[shuffle], train_y[shuffle]\n",
      "clf = SVC(kernel=\"linear\", C=1)\n",
      "# Train and validate the model with 7-fold cross validation\n",
      "scores = cross_validation.cross_val_score(clf, train_x, train_y, cv=3)\n",
      "print scores"
     ],
     "language": "python",
     "metadata": {},
     "outputs": [
      {
       "output_type": "stream",
       "stream": "stdout",
       "text": [
        "[ 0.9819  0.982   0.9828]\n"
       ]
      }
     ],
     "prompt_number": 3
    },
    {
     "cell_type": "code",
     "collapsed": false,
     "input": [
      "from sklearn import cross_validation\n",
      "from sklearn.svm import SVC\n",
      "import scipy.io\n",
      "import numpy as np\n",
      "mat=scipy.io.loadmat('../data/mnist_cnn_y1.mat')\n",
      "train_x=mat['seqx'];\n",
      "train_y=np.ravel(mat['seqy']);\n",
      "shuffle = np.random.permutation(np.arange(train_x.shape[0]))\n",
      "train_x, train_y = train_x[shuffle], train_y[shuffle]\n",
      "clf = SVC(kernel=\"linear\", C=1)\n",
      "# Train and validate the model with 7-fold cross validation\n",
      "scores = cross_validation.cross_val_score(clf, train_x, train_y, cv=3)\n",
      "print scores"
     ],
     "language": "python",
     "metadata": {},
     "outputs": [
      {
       "output_type": "stream",
       "stream": "stdout",
       "text": [
        "[ 0.9775   0.97445  0.97805]\n"
       ]
      }
     ],
     "prompt_number": 4
    },
    {
     "cell_type": "code",
     "collapsed": false,
     "input": [
      "from sklearn import cross_validation\n",
      "from sklearn.svm import SVC\n",
      "import scipy.io\n",
      "import numpy as np\n",
      "mat=scipy.io.loadmat('../data/mnist_cnn_y2.mat')\n",
      "train_x=mat['seqx'];\n",
      "train_y=np.ravel(mat['seqy']);\n",
      "shuffle = np.random.permutation(np.arange(train_x.shape[0]))\n",
      "train_x, train_y = train_x[shuffle], train_y[shuffle]\n",
      "clf = SVC(kernel=\"linear\", C=1)\n",
      "# Train and validate the model with 7-fold cross validation\n",
      "scores = cross_validation.cross_val_score(clf, train_x, train_y, cv=3)\n",
      "print scores\n",
      "#[ 0.9712   0.97225  0.9692 ]\n"
     ],
     "language": "python",
     "metadata": {},
     "outputs": []
    },
    {
     "cell_type": "code",
     "collapsed": false,
     "input": [
      "from sklearn import cross_validation\n",
      "from sklearn.svm import SVC\n",
      "import scipy.io\n",
      "import numpy as np\n",
      "mat=scipy.io.loadmat('../data/mnist_cnn_y3.mat')\n",
      "train_x=mat['seqx'];\n",
      "train_y=np.ravel(mat['seqy']);\n",
      "shuffle = np.random.permutation(np.arange(train_x.shape[0]))\n",
      "train_x, train_y = train_x[shuffle], train_y[shuffle]\n",
      "clf = SVC(kernel=\"linear\", C=1)\n",
      "# Train and validate the model with 7-fold cross validation\n",
      "scores = cross_validation.cross_val_score(clf, train_x, train_y, cv=3)\n",
      "print scores\n",
      "#data too big, following results computed on server.\n",
      "#[0.9801 0.9797 0.979]"
     ],
     "language": "python",
     "metadata": {},
     "outputs": []
    },
    {
     "cell_type": "code",
     "collapsed": false,
     "input": [
      "from sklearn import cross_validation\n",
      "from sklearn.svm import SVC\n",
      "import scipy.io\n",
      "import numpy as np\n",
      "mat=scipy.io.loadmat('../data/mnist_cnn_y4.mat')\n",
      "train_x=mat['seqx'];\n",
      "train_y=np.ravel(mat['seqy']);\n",
      "train_x=train_x[1:2000,...]\n",
      "train_y=train_y[1:2000,...]\n",
      "shuffle = np.random.permutation(np.arange(train_x.shape[0]))\n",
      "train_x, train_y = train_x[shuffle], train_y[shuffle]\n",
      "clf = SVC(kernel=\"linear\", C=1)\n",
      "# Train and validate the model with 7-fold cross validation\n",
      "scores = cross_validation.cross_val_score(clf, train_x, train_y, cv=3)\n",
      "print scores\n",
      "#data too big, following results computed on server.\n",
      "#[0.932   0.9312  0.9299]"
     ],
     "language": "python",
     "metadata": {},
     "outputs": []
    },
    {
     "cell_type": "code",
     "collapsed": false,
     "input": [
      "from sklearn import cross_validation\n",
      "from sklearn.svm import SVC\n",
      "import scipy.io\n",
      "import numpy as np\n",
      "mat=scipy.io.loadmat('../data/mnist_cnn_y5.mat')\n",
      "train_x=mat['seqx'];\n",
      "train_y=np.ravel(mat['seqy']);\n",
      "shuffle = np.random.permutation(np.arange(train_x.shape[0]))\n",
      "train_x, train_y = train_x[shuffle], train_y[shuffle]\n",
      "clf = SVC(kernel=\"linear\", C=1)\n",
      "# Train and validate the model with 7-fold cross validation\n",
      "scores = cross_validation.cross_val_score(clf, train_x, train_y, cv=3)\n",
      "print scores\n",
      "#data too big, following results computed on server.\n",
      "#[ 0.91075  0.9151   0.90955]"
     ],
     "language": "python",
     "metadata": {},
     "outputs": []
    },
    {
     "cell_type": "code",
     "collapsed": false,
     "input": [
      "from sklearn import cross_validation\n",
      "from sklearn.svm import SVC\n",
      "import scipy.io\n",
      "import numpy as np\n",
      "mat=scipy.io.loadmat('../data/mnist_cnn_y6.mat')\n",
      "train_x=mat['seqx'];\n",
      "train_y=np.ravel(mat['seqy']);\n",
      "shuffle = np.random.permutation(np.arange(train_x.shape[0]))\n",
      "train_x, train_y = train_x[shuffle], train_y[shuffle]\n",
      "clf = SVC(kernel=\"linear\", C=1)\n",
      "# Train and validate the model with 7-fold cross validation\n",
      "scores = cross_validation.cross_val_score(clf, train_x, train_y, cv=3)\n",
      "print scores\n",
      "#data too big, following results computed on server.\n",
      "#[ 0.9104  0.9116  0.9126]"
     ],
     "language": "python",
     "metadata": {},
     "outputs": []
    }
   ],
   "metadata": {}
  }
 ]
}