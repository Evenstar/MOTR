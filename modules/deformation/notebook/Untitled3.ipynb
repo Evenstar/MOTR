{
 "metadata": {
  "name": ""
 },
 "nbformat": 3,
 "nbformat_minor": 0,
 "worksheets": [
  {
   "cells": [
    {
     "cell_type": "code",
     "collapsed": false,
     "input": [
      "from sklearn import cross_validation\n",
      "from sklearn.svm import SVC\n",
      "import scipy.io\n",
      "import numpy as np\n",
      "mat=scipy.io.loadmat('../data/mnist_cnn_y2.mat')\n",
      "train_x=mat['seqx'];\n",
      "train_y=np.ravel(mat['seqy']);\n",
      "shuffle = np.random.permutation(np.arange(train_x.shape[0]))\n",
      "train_x, train_y = train_x[shuffle], train_y[shuffle]\n",
      "clf = SVC(kernel=\"linear\", C=1)\n",
      "# Train and validate the model with 7-fold cross validation\n",
      "scores = cross_validation.cross_val_score(clf, train_x, train_y, cv=3)\n",
      "print scores"
     ],
     "language": "python",
     "metadata": {},
     "outputs": [
      {
       "output_type": "stream",
       "stream": "stdout",
       "text": [
        "[ 0.9712   0.97225  0.9692 ]\n"
       ]
      }
     ],
     "prompt_number": 3
    },
    {
     "cell_type": "code",
     "collapsed": false,
     "input": [],
     "language": "python",
     "metadata": {},
     "outputs": []
    }
   ],
   "metadata": {}
  }
 ]
}