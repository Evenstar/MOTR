{
 "metadata": {
  "name": ""
 },
 "nbformat": 3,
 "nbformat_minor": 0,
 "worksheets": [
  {
   "cells": [
    {
     "cell_type": "code",
     "collapsed": false,
     "input": [
      "r=4;\n",
      "N=20000;\n",
      "trainImg=titan_build_train(data,r,N);\n",
      "opts.patchSize=[r,r];\n",
      "opts.numAtoms=r*r;\n",
      "opts.lambda=5;\n",
      "opts.maxIter=200;\n",
      "[dict,recImg,ratio]=nenya_train(trainImg,opts);\n",
      "psnr(trainImg,recImg)\n",
      "ratio\n",
      "resImg=trainImg-recImg;\n",
      "L1=sum(abs(resImg(:)))"
     ],
     "language": "python",
     "metadata": {},
     "outputs": []
    }
   ],
   "metadata": {}
  }
 ]
}