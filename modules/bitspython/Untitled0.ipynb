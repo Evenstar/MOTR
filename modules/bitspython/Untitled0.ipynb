{
 "metadata": {
  "name": ""
 },
 "nbformat": 3,
 "nbformat_minor": 0,
 "worksheets": [
  {
   "cells": [
    {
     "cell_type": "code",
     "collapsed": false,
     "input": [
      "def sayHello():\n",
      "    print 'Hello World!'\n",
      "sayHello()"
     ],
     "language": "python",
     "metadata": {},
     "outputs": [
      {
       "output_type": "stream",
       "stream": "stdout",
       "text": [
        "Hello World!\n"
       ]
      }
     ],
     "prompt_number": 3
    },
    {
     "cell_type": "code",
     "collapsed": false,
     "input": [
      "a='string'\n",
      "a=a*2"
     ],
     "language": "python",
     "metadata": {},
     "outputs": [],
     "prompt_number": 4
    },
    {
     "cell_type": "code",
     "collapsed": false,
     "input": [
      "a"
     ],
     "language": "python",
     "metadata": {},
     "outputs": [
      {
       "metadata": {},
       "output_type": "pyout",
       "prompt_number": 5,
       "text": [
        "'stringstring'"
       ]
      }
     ],
     "prompt_number": 5
    },
    {
     "cell_type": "code",
     "collapsed": false,
     "input": [
      "print(__doc__)\n",
      "\n",
      "# Author: Gael Varoquaux <gael dot varoquaux at normalesup dot org>\n",
      "# License: BSD 3 clause\n",
      "\n",
      "# Standard scientific Python imports\n",
      "import pylab as pl\n",
      "\n",
      "# Import datasets, classifiers and performance metrics\n",
      "from sklearn import datasets, svm, metrics\n",
      "\n",
      "# The digits dataset\n",
      "digits = datasets.load_digits()\n",
      "\n",
      "# The data that we are interested in is made of 8x8 images of digits,\n",
      "# let's have a look at the first 3 images, stored in the `images`\n",
      "# attribute of the dataset. If we were working from image files, we\n",
      "# could load them using pylab.imread. For these images know which\n",
      "# digit they represent: it is given in the 'target' of the dataset.\n",
      "for index, (image, label) in enumerate(zip(digits.images, digits.target)[:4]):\n",
      "    pl.subplot(2, 4, index + 1)\n",
      "    pl.axis('off')\n",
      "    pl.imshow(image, cmap=pl.cm.gray_r, interpolation='nearest')\n",
      "    pl.title('Training: %i' % label)\n",
      "\n",
      "# To apply an classifier on this data, we need to flatten the image, to\n",
      "# turn the data in a (samples, feature) matrix:\n",
      "n_samples = len(digits.images)\n",
      "data = digits.images.reshape((n_samples, -1))\n",
      "\n",
      "# Create a classifier: a support vector classifier\n",
      "classifier = svm.SVC(gamma=0.001)\n",
      "\n",
      "# We learn the digits on the first half of the digits\n",
      "classifier.fit(data[:n_samples / 2], digits.target[:n_samples / 2])\n",
      "\n",
      "# Now predict the value of the digit on the second half:\n",
      "expected = digits.target[n_samples / 2:]\n",
      "predicted = classifier.predict(data[n_samples / 2:])\n",
      "\n",
      "print(\"Classification report for classifier %s:\\n%s\\n\"\n",
      "      % (classifier, metrics.classification_report(expected, predicted)))\n",
      "print(\"Confusion matrix:\\n%s\" % metrics.confusion_matrix(expected, predicted))\n",
      "\n",
      "for index, (image, prediction) in enumerate(\n",
      "        zip(digits.images[n_samples / 2:], predicted)[:4]):\n",
      "    pl.subplot(2, 4, index + 5)\n",
      "    pl.axis('off')\n",
      "    pl.imshow(image, cmap=pl.cm.gray_r, interpolation='nearest')\n",
      "    pl.title('Prediction: %i' % prediction)\n",
      "\n",
      "pl.show()"
     ],
     "language": "python",
     "metadata": {},
     "outputs": [
      {
       "output_type": "stream",
       "stream": "stdout",
       "text": [
        "Automatically created module for IPython interactive environment\n",
        "Classification report for classifier SVC(C=1.0, cache_size=200, class_weight=None, coef0=0.0, degree=3,\n",
        "  gamma=0.001, kernel=rbf, max_iter=-1, probability=False,\n",
        "  random_state=None, shrinking=True, tol=0.001, verbose=False):\n",
        "             precision    recall  f1-score   support\n",
        "\n",
        "          0       1.00      0.99      0.99        88\n",
        "          1       0.99      0.97      0.98        91\n",
        "          2       0.99      0.99      0.99        86\n",
        "          3       0.98      0.87      0.92        91\n",
        "          4       0.99      0.96      0.97        92\n",
        "          5       0.95      0.97      0.96        91\n",
        "          6       0.99      0.99      0.99        91\n",
        "          7       0.96      0.99      0.97        89\n",
        "          8       0.94      1.00      0.97        88\n",
        "          9       0.93      0.98      0.95        92\n",
        "\n",
        "avg / total       0.97      0.97      0.97       899\n",
        "\n"
       ]
      },
      {
       "output_type": "stream",
       "stream": "stdout",
       "text": [
        "\n",
        "Confusion matrix:\n",
        "[[87  0  0  0  1  0  0  0  0  0]\n",
        " [ 0 88  1  0  0  0  0  0  1  1]\n",
        " [ 0  0 85  1  0  0  0  0  0  0]\n",
        " [ 0  0  0 79  0  3  0  4  5  0]\n",
        " [ 0  0  0  0 88  0  0  0  0  4]\n",
        " [ 0  0  0  0  0 88  1  0  0  2]\n",
        " [ 0  1  0  0  0  0 90  0  0  0]\n",
        " [ 0  0  0  0  0  1  0 88  0  0]\n",
        " [ 0  0  0  0  0  0  0  0 88  0]\n",
        " [ 0  0  0  1  0  1  0  0  0 90]]\n"
       ]
      }
     ],
     "prompt_number": 6
    },
    {
     "cell_type": "code",
     "collapsed": false,
     "input": [
      "print(__doc__)\n",
      "\n",
      "import numpy as np\n",
      "import matplotlib.pyplot as plt\n",
      "\n",
      "from sklearn.datasets import fetch_olivetti_faces\n",
      "from sklearn.utils.validation import check_random_state\n",
      "\n",
      "from sklearn.ensemble import ExtraTreesRegressor\n",
      "from sklearn.neighbors import KNeighborsRegressor\n",
      "from sklearn.linear_model import LinearRegression\n",
      "from sklearn.linear_model import RidgeCV\n",
      "\n",
      "# Load the faces datasets\n",
      "data = fetch_olivetti_faces()\n",
      "targets = data.target\n",
      "\n",
      "data = data.images.reshape((len(data.images), -1))\n",
      "train = data[targets < 30]\n",
      "test = data[targets >= 30]  # Test on independent people\n",
      "\n",
      "# Test on a subset of people\n",
      "n_faces = 5\n",
      "rng = check_random_state(4)\n",
      "face_ids = rng.randint(test.shape[0], size=(n_faces, ))\n",
      "test = test[face_ids, :]\n",
      "\n",
      "n_pixels = data.shape[1]\n",
      "X_train = train[:, :np.ceil(0.5 * n_pixels)]  # Upper half of the faces\n",
      "y_train = train[:, np.floor(0.5 * n_pixels):]  # Lower half of the faces\n",
      "X_test = test[:, :np.ceil(0.5 * n_pixels)]\n",
      "y_test = test[:, np.floor(0.5 * n_pixels):]\n",
      "\n",
      "# Fit estimators\n",
      "ESTIMATORS = {\n",
      "    \"Extra trees\": ExtraTreesRegressor(n_estimators=10, max_features=32,\n",
      "                                       random_state=0),\n",
      "    \"K-nn\": KNeighborsRegressor(),\n",
      "    \"Linear regression\": LinearRegression(),\n",
      "    \"Ridge\": RidgeCV(),\n",
      "}\n",
      "\n",
      "y_test_predict = dict()\n",
      "for name, estimator in ESTIMATORS.items():\n",
      "    estimator.fit(X_train, y_train)\n",
      "    y_test_predict[name] = estimator.predict(X_test)\n",
      "\n",
      "# Plot the completed faces\n",
      "image_shape = (64, 64)\n",
      "\n",
      "n_cols = 1 + len(ESTIMATORS)\n",
      "plt.figure(figsize=(2. * n_cols, 2.26 * n_faces))\n",
      "plt.suptitle(\"Face completion with multi-output estimators\", size=16)\n",
      "\n",
      "for i in range(n_faces):\n",
      "    true_face = np.hstack((X_test[i], y_test[i]))\n",
      "\n",
      "    if i:\n",
      "        sub = plt.subplot(n_faces, n_cols, i * n_cols + 1)\n",
      "    else:\n",
      "        sub = plt.subplot(n_faces, n_cols, i * n_cols + 1,\n",
      "                          title=\"true faces\")\n",
      "\n",
      "\n",
      "    sub.axis(\"off\")\n",
      "    sub.imshow(true_face.reshape(image_shape),\n",
      "               cmap=plt.cm.gray,\n",
      "               interpolation=\"nearest\")\n",
      "\n",
      "    for j, est in enumerate(sorted(ESTIMATORS)):\n",
      "        completed_face = np.hstack((X_test[i], y_test_predict[est][i]))\n",
      "\n",
      "        if i:\n",
      "            sub = plt.subplot(n_faces, n_cols, i * n_cols + 2 + j)\n",
      "\n",
      "        else:\n",
      "            sub = plt.subplot(n_faces, n_cols, i * n_cols + 2 + j,\n",
      "                              title=est)\n",
      "\n",
      "        sub.axis(\"off\")\n",
      "        sub.imshow(completed_face.reshape(image_shape),\n",
      "                   cmap=plt.cm.gray,\n",
      "                   interpolation=\"nearest\")\n",
      "\n",
      "plt.show()"
     ],
     "language": "python",
     "metadata": {},
     "outputs": [
      {
       "output_type": "stream",
       "stream": "stdout",
       "text": [
        "Automatically created module for IPython interactive environment\n",
        "downloading Olivetti faces from http://cs.nyu.edu/~roweis/data/olivettifaces.mat to /Users/chengtai/scikit_learn_data"
       ]
      },
      {
       "output_type": "stream",
       "stream": "stdout",
       "text": [
        "\n"
       ]
      },
      {
       "output_type": "stream",
       "stream": "stderr",
       "text": [
        "-c:29: DeprecationWarning: using a non-integer number instead of an integer will result in an error in the future\n",
        "-c:30: DeprecationWarning: using a non-integer number instead of an integer will result in an error in the future\n",
        "-c:31: DeprecationWarning: using a non-integer number instead of an integer will result in an error in the future\n",
        "-c:32: DeprecationWarning: using a non-integer number instead of an integer will result in an error in the future\n"
       ]
      }
     ],
     "prompt_number": 7
    },
    {
     "cell_type": "code",
     "collapsed": false,
     "input": [
      "print(__doc__)\n",
      "\n",
      "# Author: Gael Varoquaux <gael dot varoquaux at normalesup dot org>\n",
      "# License: BSD 3 clause\n",
      "\n",
      "# Standard scientific Python imports\n",
      "import pylab as pl\n",
      "\n",
      "# Import datasets, classifiers and performance metrics\n",
      "from sklearn import datasets, svm, metrics\n",
      "\n",
      "# The digits dataset\n",
      "digits = datasets.load_digits()\n",
      "\n",
      "# The data that we are interested in is made of 8x8 images of digits,\n",
      "# let's have a look at the first 3 images, stored in the `images`\n",
      "# attribute of the dataset. If we were working from image files, we\n",
      "# could load them using pylab.imread. For these images know which\n",
      "# digit they represent: it is given in the 'target' of the dataset.\n",
      "for index, (image, label) in enumerate(zip(digits.images, digits.target)[:4]):\n",
      "    pl.subplot(2, 4, index + 1)\n",
      "    pl.axis('off')\n",
      "    pl.imshow(image, cmap=pl.cm.gray_r, interpolation='nearest')\n",
      "    pl.title('Training: %i' % label)\n",
      "pl.show()"
     ],
     "language": "python",
     "metadata": {},
     "outputs": [
      {
       "output_type": "stream",
       "stream": "stdout",
       "text": [
        "Automatically created module for IPython interactive environment\n"
       ]
      }
     ],
     "prompt_number": 14
    },
    {
     "cell_type": "code",
     "collapsed": false,
     "input": [
      "# To apply an classifier on this data, we need to flatten the image, to\n",
      "# turn the data in a (samples, feature) matrix:\n",
      "n_samples = len(digits.images)\n",
      "data = digits.images.reshape((n_samples, -1))\n",
      "\n",
      "# Create a classifier: a support vector classifier\n",
      "classifier = svm.SVC(gamma=0.001)\n",
      "\n",
      "# We learn the digits on the first half of the digits\n",
      "classifier.fit(data[:n_samples / 2], digits.target[:n_samples / 2])\n",
      "\n",
      "# Now predict the value of the digit on the second half:\n",
      "expected = digits.target[n_samples / 2:]\n",
      "predicted = classifier.predict(data[n_samples / 2:])\n",
      "\n",
      "print(\"Classification report for classifier %s:\\n%s\\n\"\n",
      "      % (classifier, metrics.classification_report(expected, predicted)))\n",
      "print(\"Confusion matrix:\\n%s\" % metrics.confusion_matrix(expected, predicted))\n",
      "\n",
      "for index, (image, prediction) in enumerate(zip(digits.images[n_samples / 2:], predicted)[:4]):\n",
      "    pl.subplot(2, 4, index + 5)\n",
      "    pl.axis('off')\n",
      "    pl.imshow(image, cmap=pl.cm.gray_r, interpolation='nearest')\n",
      "    pl.title('Prediction: %i' % prediction)\n",
      "\n",
      "pl.show()"
     ],
     "language": "python",
     "metadata": {},
     "outputs": [
      {
       "output_type": "stream",
       "stream": "stdout",
       "text": [
        "Classification report for classifier SVC(C=1.0, cache_size=200, class_weight=None, coef0=0.0, degree=3,\n",
        "  gamma=0.001, kernel=rbf, max_iter=-1, probability=False,\n",
        "  random_state=None, shrinking=True, tol=0.001, verbose=False):\n",
        "             precision    recall  f1-score   support\n",
        "\n",
        "          0       1.00      0.99      0.99        88\n",
        "          1       0.99      0.97      0.98        91\n",
        "          2       0.99      0.99      0.99        86\n",
        "          3       0.98      0.87      0.92        91\n",
        "          4       0.99      0.96      0.97        92\n",
        "          5       0.95      0.97      0.96        91\n",
        "          6       0.99      0.99      0.99        91\n",
        "          7       0.96      0.99      0.97        89\n",
        "          8       0.94      1.00      0.97        88\n",
        "          9       0.93      0.98      0.95        92\n",
        "\n",
        "avg / total       0.97      0.97      0.97       899\n",
        "\n",
        "\n",
        "Confusion matrix:\n",
        "[[87  0  0  0  1  0  0  0  0  0]\n",
        " [ 0 88  1  0  0  0  0  0  1  1]\n",
        " [ 0  0 85  1  0  0  0  0  0  0]\n",
        " [ 0  0  0 79  0  3  0  4  5  0]\n",
        " [ 0  0  0  0 88  0  0  0  0  4]\n",
        " [ 0  0  0  0  0 88  1  0  0  2]\n",
        " [ 0  1  0  0  0  0 90  0  0  0]\n",
        " [ 0  0  0  0  0  1  0 88  0  0]\n",
        " [ 0  0  0  0  0  0  0  0 88  0]\n",
        " [ 0  0  0  1  0  1  0  0  0 90]]\n"
       ]
      }
     ],
     "prompt_number": 15
    },
    {
     "cell_type": "code",
     "collapsed": false,
     "input": [
      "for index, (image, label) in enumerate(zip(digits.images, digits.target)[:4]):\n",
      "    pl.subplot(2, 4, index + 1)\n",
      "    pl.axis('off')\n",
      "    pl.imshow(image, cmap=pl.cm.gray_r, interpolation='nearest')\n",
      "    pl.title('Training: %i' % label)"
     ],
     "language": "python",
     "metadata": {},
     "outputs": [],
     "prompt_number": 11
    },
    {
     "cell_type": "code",
     "collapsed": false,
     "input": [
      "digits.images.shape"
     ],
     "language": "python",
     "metadata": {},
     "outputs": [
      {
       "metadata": {},
       "output_type": "pyout",
       "prompt_number": 18,
       "text": [
        "(1797, 8, 8)"
       ]
      }
     ],
     "prompt_number": 18
    },
    {
     "cell_type": "code",
     "collapsed": false,
     "input": [],
     "language": "python",
     "metadata": {},
     "outputs": []
    }
   ],
   "metadata": {}
  }
 ]
}